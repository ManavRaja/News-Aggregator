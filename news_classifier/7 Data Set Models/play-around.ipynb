{
 "cells": [
  {
   "cell_type": "code",
   "execution_count": 1,
   "id": "992b5900-e8d7-4858-9b57-944da7711e70",
   "metadata": {},
   "outputs": [],
   "source": [
    "import pickle\n",
    "\n",
    "with open(\"logisticnewsclassifier.pkl\", \"rb\") as f:\n",
    "    logisticnewsclassifier = pickle.load(f)"
   ]
  },
  {
   "cell_type": "code",
   "execution_count": 2,
   "id": "fc0872cb-1ce8-44c4-bdbf-9fe731614209",
   "metadata": {},
   "outputs": [],
   "source": [
    "import en_core_web_lg\n",
    "\n",
    "nlp = en_core_web_lg.load()"
   ]
  },
  {
   "cell_type": "code",
   "execution_count": 4,
   "id": "f47ad3bd-0514-4a28-8778-16cc84f59e1b",
   "metadata": {},
   "outputs": [
    {
     "name": "stdin",
     "output_type": "stream",
     "text": [
      "Enter news article headline to classify:  Top Iowa evangelical backs DeSantis over Trump in US presidential race\n"
     ]
    },
    {
     "data": {
      "text/plain": [
       "'U.S. NEWS'"
      ]
     },
     "execution_count": 4,
     "metadata": {},
     "output_type": "execute_result"
    }
   ],
   "source": [
    "labels_dict = {0: \"BUSINESS\", 1: \"ENTERTAINMENT\", 2: \"HEALTH\", 3: \"SCIENCE\", 4: \"SPORTS\", 5:\"TECH\", 6: \"U.S. NEWS\", 7: \"WORLD NEWS\"}\n",
    "\n",
    "news_headline = input(\"Enter news article headline to classify: \")\n",
    "\n",
    "labels_dict.get(logisticnewsclassifier.predict([nlp(news_headline).vector])[0])"
   ]
  }
 ],
 "metadata": {
  "kernelspec": {
   "display_name": "Python 3 (ipykernel)",
   "language": "python",
   "name": "python3"
  },
  "language_info": {
   "codemirror_mode": {
    "name": "ipython",
    "version": 3
   },
   "file_extension": ".py",
   "mimetype": "text/x-python",
   "name": "python",
   "nbconvert_exporter": "python",
   "pygments_lexer": "ipython3",
   "version": "3.12.0"
  }
 },
 "nbformat": 4,
 "nbformat_minor": 5
}
